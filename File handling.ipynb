{
 "cells": [
  {
   "cell_type": "raw",
   "id": "3298efad-b527-476f-b482-d37910a64916",
   "metadata": {},
   "source": [
    "Q1. What is the difference between interpreted and compiled languages?\n",
    "\n",
    "ans-The primary difference between compiled and interpreted languages lies in how the source code is executed. Compiled languages are translated into machine code (or an intermediate representation) before runtime, while interpreted languages are executed line by line by an interpreter during runtime\n",
    "\n",
    "Q2. What is exception handling in Python?\n",
    "\n",
    "ans- Exception handling in Python is a process of resolving errors that occur in a program\n",
    "\n",
    "Q3. What is the purpose of the finally block in exception handling?\n",
    "\n",
    "ans-The finally block in exception handling ensures that a specific block of code is always executed, regardless of whether an exception is thrown or caught within the try block\n",
    "\n",
    "Q4. What is logging in Python?\n",
    "\n",
    "ans- A way to record messages for tracking events and debugging using the logging module.\n",
    "\n",
    "Q5. What is the significance of the __del__ method in Python?\n",
    "\n",
    "ans-It's a destructor method called when an object is garbage collected.\n",
    "\n",
    "Q6. What is the difference between import and from ... import in Python?\n",
    "\n",
    "ans-import module: Imports the whole module.\n",
    "\n",
    "from module import item: Imports specific attributes/functions.\n",
    "\n",
    "Q7. How can you handle multiple exceptions in Python?\n",
    "\n",
    "ans-Using multiple except blocks or a single block with a tuple.\n",
    "\n",
    "Q8. What is the purpose of the with statement when handling files in Python?\n",
    "\n",
    "ans-To ensure proper acquisition and release of resources (e.g., auto-closing files).\n",
    "\n",
    "Q9. What is the difference between multithreading and multiprocessing?\n",
    "\n",
    "ans-Multithreading: Multiple threads in the same process.\n",
    "\n",
    "Multiprocessing: Multiple processes with separate memory.\n",
    "\n",
    "Q10. What are the advantages of using logging in a program?\n",
    "\n",
    "ans- Tracks errors/events, helps debugging, and avoids using print statements.\n",
    "\n",
    "Q11. What is memory management in Python?\n",
    "\n",
    "ans-Automatic memory handling by the memory manager and garbage collector.\n",
    "\n",
    "Q12. What are the basic steps involved in exception handling in Python?\n",
    "\n",
    "ans- try block, except block, optional else and finally blocks.\n",
    "\n",
    "Q13. Why is memory management important in Python?\n",
    "\n",
    "ans-Ensures efficient memory use, prevents leaks, and boosts performance.\n",
    "\n",
    "Q14. What is the role of try and except in exception handling?\n",
    "\n",
    "ans-try: Code that may raise exceptions.\n",
    "\n",
    "except: Handles raised exceptions.\n",
    "\n",
    "Q15. How does Python's garbage collection system work?\n",
    "\n",
    "Uses reference counting and cyclic garbage collection.\n",
    "\n",
    "Q16. What is the purpose of the else block in exception handling?\n",
    "\n",
    "ans-Executes only if no exception occurs in the try block.\n",
    "\n",
    "Q17. What are the common logging levels in Python?\n",
    "\n",
    "ans-DEBUG, INFO, WARNING, ERROR, CRITICAL\n",
    "\n",
    "Q18. What is the difference between os.fork() and multiprocessing in Python?\n",
    "\n",
    "os.fork(): Low-level process creation (Unix).\n",
    "\n",
    "multiprocessing: High-level, cross-platform process creation.\n",
    "\n",
    "Q19. What is the importance of closing a file in Python?\n",
    "\n",
    "ans-Releases resources and ensures data is saved.\n",
    "\n",
    "20. What is the difference between file.read() and file.readline() in Python?\n",
    "\n",
    "ans-read(): Reads the whole file or specific characters.\n",
    "\n",
    "readline(): Reads one line.\n",
    "\n",
    "Q21. What is the logging module in Python used for?\n",
    "\n",
    "ans-Generating log messages for tracking and debugging.\n",
    "\n",
    "Q22. What is the os module in Python used for in file handling?\n",
    "\n",
    "ans-Interacts with the OS for file/directory operations.\n",
    "\n",
    "Q23. What are the challenges associated with memory management in Python?\n",
    "\n",
    "ans-Circular references, delayed collection, memory leaks in C extensions.\n",
    "\n",
    "Q24. How do you raise an exception manually in Python?\n",
    "\n",
    "ans-Using raise, e.g., raise ValueError(\"Invalid input\")\n",
    "\n",
    "Q25. Why is it important to use multithreading in certain applications?\n",
    "\n",
    "ans-Improves I/O-bound task performance by running tasks concurrently."
   ]
  },
  {
   "cell_type": "code",
   "execution_count": 6,
   "id": "e1c8dad4-b283-45ec-b119-7d3d7d4c1eca",
   "metadata": {},
   "outputs": [
    {
     "data": {
      "text/plain": [
       "'Hello World'"
      ]
     },
     "execution_count": 6,
     "metadata": {},
     "output_type": "execute_result"
    }
   ],
   "source": [
    "#1 How can you open a file for writing in Python and write a string to it\n",
    "with open('file.txt','w') as fh:\n",
    "    fh.write('Hello World')\n",
    "file=open('file.txt','r')\n",
    "file.read()"
   ]
  },
  {
   "cell_type": "code",
   "execution_count": 5,
   "id": "75ea8ccd-cb03-49ea-ab0d-26051d06c71a",
   "metadata": {},
   "outputs": [
    {
     "data": {
      "text/plain": [
       "'Hello World'"
      ]
     },
     "execution_count": 5,
     "metadata": {},
     "output_type": "execute_result"
    }
   ],
   "source": [
    "#2 Write a Python program to read the contents of a file and print each line\n",
    "file=open('file.txt','r')\n",
    "file.readline()"
   ]
  },
  {
   "cell_type": "code",
   "execution_count": 7,
   "id": "95474c53-0695-43f7-9d81-ca4318563c7f",
   "metadata": {},
   "outputs": [
    {
     "name": "stdout",
     "output_type": "stream",
     "text": [
      "File not found\n"
     ]
    }
   ],
   "source": [
    "#3 How would you handle a case where the file doesn't exist while trying to open it for reading\n",
    "try:\n",
    "    file=open('Chirag.txt','r')\n",
    "    file.read()\n",
    "except Exception:\n",
    "    print('File not found')"
   ]
  },
  {
   "cell_type": "code",
   "execution_count": 11,
   "id": "7301166d-7967-4090-a3ad-2360feadc595",
   "metadata": {},
   "outputs": [
    {
     "name": "stdout",
     "output_type": "stream",
     "text": [
      "Hello World\n"
     ]
    }
   ],
   "source": [
    "#4 Write a Python script that reads from one file and writes its content to another file\n",
    "with open('file.txt','r') as g:\n",
    "   k= g.read()\n",
    "with open('Sacc.txt','w') as h:\n",
    "    h.write(k)\n",
    "with open('Sacc.txt','r') as j:\n",
    "    print(j.read())"
   ]
  },
  {
   "cell_type": "code",
   "execution_count": 12,
   "id": "e59693d4-14f4-47c6-ad7a-fdf4298df597",
   "metadata": {},
   "outputs": [
    {
     "name": "stdin",
     "output_type": "stream",
     "text": [
      "Enter a number:  1\n",
      "Enter a number:  0\n"
     ]
    },
    {
     "name": "stdout",
     "output_type": "stream",
     "text": [
      "Not possible\n"
     ]
    }
   ],
   "source": [
    "#5 How would you catch and handle division by zero error in Python\n",
    "try:\n",
    "    a=int(input('Enter a number: '))\n",
    "    b=int(input('Enter a number: '))\n",
    "    a/b\n",
    "except ZeroDivisionError:\n",
    "    print('Not possible')\n",
    "    "
   ]
  },
  {
   "cell_type": "code",
   "execution_count": 13,
   "id": "af8ad632-abb3-4bbb-a78b-85112c26acd4",
   "metadata": {},
   "outputs": [
    {
     "name": "stdout",
     "output_type": "stream",
     "text": [
      "Error: Division by zero is not allowed.\n"
     ]
    }
   ],
   "source": [
    "#6 Write a Python program that logs an error message to a log file when a division by zero exception occurs\n",
    "import logging\n",
    "logging.basicConfig(\n",
    "    filename='error.log',\n",
    "    level=logging.ERROR,\n",
    "    format='%(asctime)s %(levelname)s: %(message)s'\n",
    ")\n",
    "\n",
    "def divide(x, y):\n",
    "    try:\n",
    "        result = x / y\n",
    "        print(\"Result:\", result)\n",
    "    except ZeroDivisionError:\n",
    "        logging.error(\"Tried to divide %s by zero.\", x)\n",
    "        print(\"Error: Division by zero is not allowed.\")\n",
    "divide(10, 0)\n"
   ]
  },
  {
   "cell_type": "code",
   "execution_count": 16,
   "id": "a8c22624-91bb-4303-8c34-c98cf68e3b8f",
   "metadata": {},
   "outputs": [
    {
     "name": "stderr",
     "output_type": "stream",
     "text": [
      "INFO:root:This is an info message\n",
      "WARNING:root:This is a warning\n",
      "ERROR:root:This is an error\n"
     ]
    }
   ],
   "source": [
    "#7 How do you log information at different levels (INFO, ERROR, WARNING) in Python using the logging module\n",
    "import logging\n",
    "logging.basicConfig(level=logging.INFO,force=True)\n",
    "logging.info(\"This is an info message\")\n",
    "logging.warning(\"This is a warning\")\n",
    "logging.error(\"This is an error\")\n"
   ]
  },
  {
   "cell_type": "code",
   "execution_count": 17,
   "id": "b28e9f87-58c1-4d3e-99ba-1335182eb685",
   "metadata": {},
   "outputs": [
    {
     "name": "stdout",
     "output_type": "stream",
     "text": [
      "File not found\n"
     ]
    }
   ],
   "source": [
    "#8 Write a program to handle a file opening error using exception handling\n",
    "try:\n",
    "    file=open('Chirag.txt','r')\n",
    "except Exception:\n",
    "    print('File not found')"
   ]
  },
  {
   "cell_type": "code",
   "execution_count": 18,
   "id": "90a62f34-fbc4-41f3-8192-9b39a116434b",
   "metadata": {},
   "outputs": [
    {
     "data": {
      "text/plain": [
       "['Hello World']"
      ]
     },
     "execution_count": 18,
     "metadata": {},
     "output_type": "execute_result"
    }
   ],
   "source": [
    "#9 How can you read a file line by line and store its content in a list\n",
    "file=open('file.txt','r')\n",
    "file.readlines()"
   ]
  },
  {
   "cell_type": "code",
   "execution_count": 19,
   "id": "bba0a847-ac2b-440c-9db9-5cfe2c561e51",
   "metadata": {},
   "outputs": [
    {
     "data": {
      "text/plain": [
       "['Hello WorldHow are you']"
      ]
     },
     "execution_count": 19,
     "metadata": {},
     "output_type": "execute_result"
    }
   ],
   "source": [
    "#10 How can you append data to an existing file in Python\n",
    "with open('file.txt','a') as fh:\n",
    "    fh.write('How are you')\n",
    "file=open('file.txt','r')\n",
    "file.readlines()    \n",
    "    \n",
    "    "
   ]
  },
  {
   "cell_type": "code",
   "execution_count": 20,
   "id": "caf194a9-d93f-4904-ac0f-d53961bab9a9",
   "metadata": {},
   "outputs": [
    {
     "name": "stdout",
     "output_type": "stream",
     "text": [
      "Error: The key 'address' does not exist in the dictionary.\n"
     ]
    }
   ],
   "source": [
    "#11 Write a Python program that uses a try-except block to handle an error when attempting to access a dictionary key that doesn't exist\n",
    "data = {\"name\": \"Alice\", \"age\": 30}\n",
    "\n",
    "key_to_access = \"address\"\n",
    "\n",
    "try:\n",
    "    print(f\"The value of '{key_to_access}' is: {data[key_to_access]}\")\n",
    "except KeyError:\n",
    "    print(f\"Error: The key '{key_to_access}' does not exist in the dictionary.\")\n",
    "\n"
   ]
  },
  {
   "cell_type": "code",
   "execution_count": 21,
   "id": "6e61d25f-45ee-4052-b3dc-93520592be27",
   "metadata": {},
   "outputs": [
    {
     "name": "stdout",
     "output_type": "stream",
     "text": [
      "Error: Cannot divide by zero.\n",
      "Program execution complete.\n"
     ]
    }
   ],
   "source": [
    "#12 Write a program that demonstrates using multiple except blocks to handle different types of exceptions\n",
    "def example_program():\n",
    "    data = {\"name\": \"Alice\", \"age\": 30}\n",
    "    \n",
    "    try:\n",
    "       \n",
    "        result = 10 / 0\n",
    "        \n",
    "    \n",
    "        address = data[\"address\"]\n",
    "        \n",
    "        \n",
    "        greeting = \"Hello, \" + 25\n",
    "\n",
    "    except ZeroDivisionError:\n",
    "        print(\"Error: Cannot divide by zero.\")\n",
    "    \n",
    "    except KeyError as e:\n",
    "        print(f\"Error: The key {e} does not exist in the dictionary.\")\n",
    "    \n",
    "    except TypeError as e:\n",
    "        print(f\"Error: Type mismatch - {e}\")\n",
    "    \n",
    "    else:\n",
    "        print(\"All operations were successful.\")\n",
    "    \n",
    "    finally:\n",
    "        print(\"Program execution complete.\")\n",
    "\n",
    "# Run the program\n",
    "example_program()\n"
   ]
  },
  {
   "cell_type": "code",
   "execution_count": 22,
   "id": "c42e6cf7-a25e-4975-9843-a21c11bddc1b",
   "metadata": {},
   "outputs": [
    {
     "name": "stdout",
     "output_type": "stream",
     "text": [
      "File does not exist\n"
     ]
    }
   ],
   "source": [
    "#13 How would you check if a file exists before attempting to read it in Python \n",
    "import os\n",
    "if os.path.isfile('filename.txt'):\n",
    "    with open('filename.txt', 'r') as file:\n",
    "        data = file.read()\n",
    "else:\n",
    "    print(\"File does not exist\")\n"
   ]
  },
  {
   "cell_type": "code",
   "execution_count": 23,
   "id": "886afdac-8ab0-4368-b728-e02463f7d042",
   "metadata": {},
   "outputs": [
    {
     "name": "stderr",
     "output_type": "stream",
     "text": [
      "INFO:root:Program started.\n",
      "ERROR:root:Division by zero error!\n",
      "INFO:root:Program ended.\n"
     ]
    }
   ],
   "source": [
    "#14 Write a program that uses the logging module to log both informational and error messages\n",
    "import logging\n",
    "\n",
    "# Set up basic logging configuration\n",
    "logging.basicConfig(filename='logfile.log', level=logging.INFO)\n",
    "\n",
    "# Log an info message\n",
    "logging.info(\"Program started.\")\n",
    "\n",
    "try:\n",
    "    x = 10 / 0  # This will cause a ZeroDivisionError\n",
    "except ZeroDivisionError:\n",
    "    logging.error(\"Division by zero error!\")\n",
    "\n",
    "# Log another info message\n",
    "logging.info(\"Program ended.\")\n",
    "\n"
   ]
  },
  {
   "cell_type": "code",
   "execution_count": 2,
   "id": "e29a84c4-a6b1-49e8-a518-67848d8c0f13",
   "metadata": {},
   "outputs": [
    {
     "name": "stdin",
     "output_type": "stream",
     "text": [
      "Enter the filename to read:  file.txt\n"
     ]
    },
    {
     "name": "stdout",
     "output_type": "stream",
     "text": [
      "File contents:\n",
      "\n",
      "Hello WorldHow are you\n"
     ]
    }
   ],
   "source": [
    "#15 Write a Python program that prints the content of a file and handles the case when the file is empty\n",
    "def read_file(filename):\n",
    "    try:\n",
    "        with open(filename, 'r') as file:\n",
    "            content = file.read()\n",
    "            if not content:\n",
    "                print(\"The file is empty.\")\n",
    "            else:\n",
    "                print(\"File contents:\\n\")\n",
    "                print(content)\n",
    "    except FileNotFoundError:\n",
    "        print(f\"Error: The file '{filename}' does not exist.\")\n",
    "\n",
    "# Replace with your actual filename, e.g., 'example.txt'\n",
    "file_name = input(\"Enter the filename to read: \")\n",
    "read_file(file_name)\n"
   ]
  },
  {
   "cell_type": "code",
   "execution_count": 7,
   "id": "cded8aa7-2f41-4540-a49b-9302331e6576",
   "metadata": {},
   "outputs": [
    {
     "name": "stdout",
     "output_type": "stream",
     "text": [
      "Numbers written to 'numbers.txt' successfully.\n"
     ]
    }
   ],
   "source": [
    "#16 Write a Python program to create and write a list of numbers to a file, one number per line\n",
    "# Create a list of numbers\n",
    "numbers = [10, 20, 30, 40, 50]\n",
    "\n",
    "# Open a file in write mode\n",
    "with open(\"numbers.txt\", \"w\") as file:\n",
    "    for number in numbers:\n",
    "        file.write(f\"{number}\\n\")  # Write each number followed by a newline\n",
    "\n",
    "print(\"Numbers written to 'numbers.txt' successfully.\")\n"
   ]
  },
  {
   "cell_type": "code",
   "execution_count": 9,
   "id": "b103e3c7-9ac0-40ac-a244-8c944ae079ba",
   "metadata": {},
   "outputs": [],
   "source": [
    "#17 How would you implement a basic logging setup that logs to a file with rotation after 1MB\n",
    "import logging\n",
    "from logging.handlers import RotatingFileHandler\n",
    "\n",
    "# Create logger\n",
    "logger = logging.getLogger(\"MyLogger\")\n",
    "logger.setLevel(logging.INFO)  # Set minimum log level\n",
    "\n",
    "# Create a rotating file handler\n",
    "handler = RotatingFileHandler(\n",
    "    \"ap.log\",          # Log file name\n",
    "    maxBytes=1_000_000, # 1MB file size limit before rotation\n",
    "    backupCount=5       # Keep up to 5 backup files\n",
    ")\n",
    "\n",
    "# Optional: set a log message format\n",
    "formatter = logging.Formatter('%(asctime)s - %(levelname)s - %(message)s')\n",
    "handler.setFormatter(formatter)\n",
    "\n",
    "# Add the handler to the logger\n",
    "logger.addHandler(handler)\n",
    "\n",
    "# Example usage\n",
    "logger.info(\"This is an informational message.\")\n",
    "logger.error(\"This is an error message.\")\n"
   ]
  },
  {
   "cell_type": "code",
   "execution_count": 10,
   "id": "5bb058c3-f4f7-46d0-b0c6-dd212ccdff46",
   "metadata": {},
   "outputs": [
    {
     "name": "stdout",
     "output_type": "stream",
     "text": [
      "IndexError caught: list index out of range\n"
     ]
    }
   ],
   "source": [
    "#18 Write a program that handles both IndexError and KeyError using a try-except block\n",
    "my_list = [1, 2, 3]\n",
    "my_dict = {'a': 10, 'b': 20}\n",
    "\n",
    "try:\n",
    "    # Attempt to access an invalid list index\n",
    "    print(my_list[5])\n",
    "    # Attempt to access a non-existent dictionary key\n",
    "    print(my_dict['c'])\n",
    "except IndexError as ie:\n",
    "    print(f\"IndexError caught: {ie}\")\n",
    "except KeyError as ke:\n",
    "    print(f\"KeyError caught: {ke}\")\n"
   ]
  },
  {
   "cell_type": "code",
   "execution_count": 11,
   "id": "f8533181-98a0-46bd-819e-457bf6c25a2c",
   "metadata": {},
   "outputs": [
    {
     "name": "stdout",
     "output_type": "stream",
     "text": [
      "Hello WorldHow are you\n"
     ]
    }
   ],
   "source": [
    "#19 How would you open a file and read its contents using a context manager in Python\n",
    "with open('file.txt', 'r') as f:\n",
    "    content = f.read()\n",
    "    print(content)\n"
   ]
  },
  {
   "cell_type": "code",
   "execution_count": 15,
   "id": "e6ed0b3c-649a-4b6c-861e-e92a30053978",
   "metadata": {},
   "outputs": [
    {
     "name": "stdin",
     "output_type": "stream",
     "text": [
      "Enter the filename:  file.txt\n",
      "Enter the word to count:  o\n"
     ]
    },
    {
     "name": "stdout",
     "output_type": "stream",
     "text": [
      "The word 'o' occurs 0 times in the file.\n"
     ]
    }
   ],
   "source": [
    "#20 Write a Python program that reads a file and prints the number of occurrences of a specific word\n",
    "def count_word_in_file(filename, target_word):\n",
    "    try:\n",
    "        with open(filename, 'r') as file:\n",
    "            content = file.read().lower()  # Read and convert to lowercase\n",
    "            word_list = content.split()\n",
    "            count = word_list.count(target_word.lower())\n",
    "            print(f\"The word '{target_word}' occurs {count} times in the file.\")\n",
    "    except FileNotFoundError:\n",
    "        print(f\"Error: The file '{filename}' does not exist.\")\n",
    "\n",
    "# Example usage\n",
    "filename = input(\"Enter the filename: \")\n",
    "word = input(\"Enter the word to count: \")\n",
    "count_word_in_file(filename, word)\n"
   ]
  },
  {
   "cell_type": "code",
   "execution_count": 16,
   "id": "d67ae949-057f-4082-887a-c7af482ed004",
   "metadata": {},
   "outputs": [
    {
     "name": "stdout",
     "output_type": "stream",
     "text": [
      "File is not empty\n"
     ]
    }
   ],
   "source": [
    "#21 How can you check if a file is empty before attempting to read its contents\n",
    "import os\n",
    "\n",
    "file_path = 'file.txt'\n",
    "if os.path.getsize(file_path) == 0:\n",
    "    print(\"File is empty\")\n",
    "else:\n",
    "    print(\"File is not empty\")\n",
    "\n"
   ]
  },
  {
   "cell_type": "code",
   "execution_count": null,
   "id": "97961ec1-75e1-4e23-b353-9affd9572e16",
   "metadata": {},
   "outputs": [],
   "source": [
    "@"
   ]
  }
 ],
 "metadata": {
  "kernelspec": {
   "display_name": "Python 3 (ipykernel)",
   "language": "python",
   "name": "python3"
  },
  "language_info": {
   "codemirror_mode": {
    "name": "ipython",
    "version": 3
   },
   "file_extension": ".py",
   "mimetype": "text/x-python",
   "name": "python",
   "nbconvert_exporter": "python",
   "pygments_lexer": "ipython3",
   "version": "3.13.5"
  }
 },
 "nbformat": 4,
 "nbformat_minor": 5
}
